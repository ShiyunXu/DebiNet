{
 "cells": [
  {
   "cell_type": "markdown",
   "metadata": {
    "id": "cUIcmukMitv2",
    "colab_type": "text"
   },
   "source": [
    "# Setup"
   ]
  },
  {
   "cell_type": "code",
   "execution_count": 0,
   "metadata": {
    "id": "I_uVV9gkVoUK",
    "colab_type": "code",
    "colab": {}
   },
   "outputs": [],
   "source": [
    "import numpy as np\n",
    "import torch\n",
    "import torch.nn as nn\n",
    "from torch.utils.data import Dataset, DataLoader, TensorDataset\n",
    "from sklearn.linear_model import LinearRegression, Lasso\n",
    "from sklearn.model_selection import train_test_split\n",
    "from matplotlib import pyplot as plt\n",
    "import time\n",
    "from sklearn.metrics import mean_squared_error as MSE\n",
    "import statsmodels.api as sm\n",
    "import scipy"
   ]
  },
  {
   "cell_type": "code",
   "execution_count": 0,
   "metadata": {
    "id": "5j5LjW8aVoUN",
    "colab_type": "code",
    "colab": {}
   },
   "outputs": [],
   "source": [
    "def setting(n, p, p1, noise=1,npseed=0):\n",
    "    np.random.seed(npseed)\n",
    "    data=np.empty((n, p))\n",
    "\n",
    "    for i in range(n):\n",
    "        data[i,:] = np.random.normal(0,1, size = (1, p))\n",
    "\n",
    "    beta1 = np.ones(p1)\n",
    "    # beta2 = torch.cat((torch.ones(1), torch.zeros(p-p1-1)), dim=0)\n",
    "    beta2 = np.zeros(p-p1)\n",
    "    beta=np.concatenate((beta1,beta2),axis=0)\n",
    "\n",
    "    y = np.matmul(data, beta).reshape(n, 1) + np.random.normal(0, noise, size = (n, 1))\n",
    "\n",
    "\n",
    "    return y, data,beta\n",
    "\n",
    "def newset(y, X, T):\n",
    "    new_y = torch.tensor(np.concatenate((y, X), axis=1)).float()\n",
    "    new_data = torch.tensor(T).float()\n",
    "    return new_y, new_data"
   ]
  },
  {
   "cell_type": "code",
   "execution_count": 0,
   "metadata": {
    "id": "agPLERpNcXDU",
    "colab_type": "code",
    "colab": {}
   },
   "outputs": [],
   "source": [
    "def simulations(Nrun=20,split_size=0.2,sigma=1,n=1000,p=3000,p1=300,lam=2,alpha=0.05,verbose=1,lamj=2):\n",
    "  beta_truth, beta_ols,beta_lasso, beta_lassols, beta_plm, beta_dblasso=[],[],[],[],[],[]\n",
    "  y_truth, y_ols,y_lasso, y_lassols, y_plm, y_dblasso=[],[],[],[],[],[]\n",
    "  y_truth_te, y_ols_te,y_lasso_te, y_lassols_te, y_plm_te, y_dblasso_te=[],[],[],[],[],[]\n",
    "  conf_ols,conf_lassols,conf_plm,conf_dblasso=[],[],[],[]\n",
    "  time_plm,time_dblasso=[],[]\n",
    "\n",
    "  for i in range(Nrun):\n",
    "      y, X,beta = setting(n=n, p=p, p1=p1, noise=sigma, npseed=i)\n",
    "      np.random.seed(i)\n",
    "      torch.manual_seed(i)\n",
    "\n",
    "      X_train, X_test, y_train, y_test = train_test_split(X, y, test_size=split_size, random_state=i)\n",
    "\n",
    "      # LASSO\n",
    "      lasso = Lasso(alpha = lam,fit_intercept=False) # lasso: alpha=1 prediction bad; alpha=0.1 no zero; mixture 0.15\n",
    "      lasso.fit(X_train, y_train)\n",
    "      lasso_coef=lasso.coef_\n",
    "      print('Run ',i,', Lasso selects ',sum(lasso_coef!=0),' features.')\n",
    "      beta_truth.append(beta[lasso_coef!=0])\n",
    "      y_truth.append(y_train.flatten())\n",
    "      y_truth_te.append(y_test.flatten())\n",
    "\n",
    "      beta_lasso.append(lasso_coef[lasso_coef!=0])\n",
    "      y_lasso.append(X_train.dot(lasso_coef))\n",
    "      y_lasso_te.append(X_test.dot(lasso_coef))\n",
    "\n",
    "      new_p1 = sum(lasso_coef!=0)\n",
    "      Z_train = X_train[:, lasso_coef!=0]\n",
    "      T_train = X_train[:, lasso_coef==0]\n",
    "      Z_test = X_test[:, lasso_coef!=0]\n",
    "      T_test = X_test[:, lasso_coef==0]\n",
    "\n",
    "      # OLS if low dimension\n",
    "      if n>p:\n",
    "        ols = sm.OLS(y_train, X_train).fit()\n",
    "        conf_ols.append(ols.conf_int(alpha=alpha, cols=None)[lasso_coef!=0])\n",
    "        beta_ols.append(ols.params[lasso_coef!=0])\n",
    "        y_ols.append(X_train.dot(ols.params))\n",
    "        y_ols_te.append(X_test.dot(ols.params))\n",
    "\n",
    "      # LASSO+OLS\n",
    "      lasso_ols = sm.OLS(y_train, Z_train).fit()\n",
    "      conf_lassols.append(lasso_ols.conf_int(alpha=alpha, cols=None))\n",
    "      beta_lassols.append(lasso_ols.params)\n",
    "      y_lassols.append(Z_train.dot(lasso_ols.params))\n",
    "      y_lassols_te.append(Z_test.dot(lasso_ols.params))\n",
    "\n",
    "\n",
    "      #LASSO+PLM\n",
    "      start_time = time.time()\n",
    "      yZ_train, T_train = newset(y_train, Z_train, T_train)\n",
    "      yZ_test, T_test = newset(y_test, Z_test, T_test)\n",
    "\n",
    "\n",
    "      max_epoch = 1000\n",
    "      lr = 2e-4\n",
    "      D_in, H, D_out = p-new_p1, 1000, new_p1+1 #p1_new will be selected by lasso later\n",
    "      batch_size = n\n",
    "\n",
    "      Train_dataset = TensorDataset(T_train, yZ_train)\n",
    "      trainloader = DataLoader(dataset=Train_dataset, batch_size=batch_size, shuffle=True)\n",
    "      Test_dataset = TensorDataset(T_test, yZ_test)\n",
    "      testloader = DataLoader(dataset=Test_dataset, batch_size=batch_size, shuffle=True)\n",
    "\n",
    "      model = nn.Sequential(\n",
    "          nn.Linear(D_in, H),\n",
    "          nn.ReLU(),\n",
    "          nn.Linear(H, D_out),\n",
    "      )\n",
    "\n",
    "      optimizer = torch.optim.Adam(model.parameters(), lr=lr,weight_decay=2)\n",
    "      criterion = nn.MSELoss()\n",
    "      old_val_error=10000\n",
    "      patience=0\n",
    "\n",
    "      for epoch in range(max_epoch):\n",
    "          for batch_T, batch_yZ in trainloader:\n",
    "\n",
    "              optimizer.zero_grad()\n",
    "              batch_yZ_pred = model(batch_T)\n",
    "              batch_loss = criterion(batch_yZ_pred, batch_yZ)\n",
    "\n",
    "              #print(epoch+1, '---', batch_loss)\n",
    "\n",
    "              batch_loss.backward()\n",
    "              optimizer.step()\n",
    "          with torch.no_grad():\n",
    "              yZ_pred = model(T_test)\n",
    "              val_loss = criterion(yZ_pred, yZ_test)\n",
    "          #early stopping\n",
    "          if val_loss.item()<old_val_error:\n",
    "              old_val_error=val_loss.item()\n",
    "              patience=0\n",
    "          else:\n",
    "              patience+=1\n",
    "          \n",
    "          if patience>0:\n",
    "              break\n",
    "\n",
    "      whole_pred=model(T_train).detach().numpy()\n",
    "      mean_conditional_y=whole_pred[:,0]\n",
    "      mean_conditional_Z=whole_pred[:,1:]\n",
    "      whole_pred_te=model(T_test).detach().numpy()\n",
    "      mean_conditional_y_te=whole_pred_te[:,0]\n",
    "      mean_conditional_Z_te=whole_pred_te[:,1:]\n",
    "\n",
    "      PLM_ols = sm.OLS(y_train-mean_conditional_y.reshape(-1,1), Z_train-mean_conditional_Z).fit()\n",
    "      conf_plm.append(PLM_ols.conf_int(alpha=alpha, cols=None))\n",
    "      beta_plm.append(PLM_ols.params)\n",
    "      y_plm.append(mean_conditional_y.flatten()+(Z_train-mean_conditional_Z).dot(PLM_ols.params))\n",
    "      y_plm_te.append(mean_conditional_y_te.flatten()+(Z_test-mean_conditional_Z_te).dot(PLM_ols.params))\n",
    "      time_plm.append(time.time() - start_time)\n",
    "\n",
    "\n",
    "      #DBLASSO\n",
    "      start_time = time.time()\n",
    "      C = np.zeros((p ,p))\n",
    "      tau_2 = np.zeros((p))\n",
    "      #each row in C is the trained coef_ of X_j\n",
    "      r=list(range(p))\n",
    "      for j in range(p):\n",
    "          not_j=r[:j]+r[j+1:]\n",
    "          lasso = Lasso(alpha=lamj,fit_intercept=False)\n",
    "          lasso.fit(X_train[:,not_j], X_train[:,j].reshape(int(n*(1-split_size)), 1))\n",
    "          node_beta=lasso.coef_\n",
    "          # print(np.mean(node_beta!=0))\n",
    "          C[j,not_j] = -node_beta\n",
    "          C[j, j] = 1\n",
    "          tau_2[j] = MSE(X_train[:,j],X_train[:,not_j].dot(node_beta))+lamj*sum(abs(node_beta))\n",
    "\n",
    "      T_2 = np.diag(tau_2**(-1))\n",
    "      Theta_hat = np.matmul(T_2, C)\n",
    "      n_tr=len(X_train)\n",
    "      db_lasso = lasso_coef + \\\n",
    "      Theta_hat.dot(X_train.T.dot(y_train.reshape(-1,)-X_train.dot(lasso_coef))) /n_tr\n",
    "      Sigma_hat = X_train.T.dot(X_train)/n_tr\n",
    "      temp=np.diag((Theta_hat.dot(Sigma_hat)).dot(Theta_hat.T))\n",
    "      c=scipy.stats.norm.ppf(1-alpha/2)*sigma*np.sqrt(temp/n_tr)\n",
    "      conf_dblasso.append(np.vstack(((db_lasso-c)[lasso_coef!=0],(db_lasso+c)[lasso_coef!=0])).T)\n",
    "      beta_dblasso.append(db_lasso[lasso_coef!=0])\n",
    "      y_dblasso.append(X_train.dot(db_lasso))\n",
    "      y_dblasso_te.append(X_test.dot(db_lasso))\n",
    "      time_dblasso.append(time.time() - start_time)\n",
    "      \n",
    "      if verbose==1:\n",
    "        #Output\n",
    "        print('LASSO selects ',sum(lasso_coef!=0),' variables out of ', p1)\n",
    "        print('Truth: ', beta[lasso_coef!=0]) #truth\n",
    "        print('Lasso: ', lasso_coef[lasso_coef!=0]) #lasso\n",
    "        print('OLS post-Lasso: ', lasso_ols.params)# lasso+ols\n",
    "        print('DebiNet: ', PLM_ols.params)# lasso+PLM\n",
    "        print('debised Lasso: ', db_lasso[lasso_coef!=0]) #debiased lasso\n",
    "\n",
    "  return ([beta_truth, beta_ols,beta_lasso, beta_lassols, beta_plm, beta_dblasso],[y_truth, y_ols,y_lasso, y_lassols, y_plm, y_dblasso],\n",
    "          [beta_truth, conf_ols,conf_lassols,conf_plm,conf_dblasso],[time_plm,time_dblasso],[y_truth_te, y_ols_te,y_lasso_te, y_lassols_te, y_plm_te, y_dblasso_te],db_lasso)"
   ]
  },
  {
   "cell_type": "code",
   "execution_count": 0,
   "metadata": {
    "id": "wH6oAKce3YId",
    "colab_type": "code",
    "colab": {}
   },
   "outputs": [],
   "source": [
    "def est_plot(beta_truth, beta_ols,beta_lasso, beta_lassols, beta_plm, beta_dblasso,s=20,save=None):\n",
    "  from matplotlib import pyplot as plt\n",
    "  plt.plot(beta_truth)\n",
    "  if len(beta_ols)!=0:\n",
    "    plt.scatter(np.arange(len(beta_truth)),beta_ols,s=s)\n",
    "  plt.scatter(np.arange(len(beta_truth)),beta_lasso,s=s)\n",
    "  plt.scatter(np.arange(len(beta_truth)),beta_lassols,s=s)\n",
    "  plt.scatter(np.arange(len(beta_truth)),beta_plm,s=s)\n",
    "  plt.scatter(np.arange(len(beta_truth)),beta_dblasso,s=s)\n",
    "  if len(beta_ols)!=0:\n",
    "    plt.legend(['Truth','OLS','Lasso','OLS post-Lasso','DebiNet', 'debiased Lasso'])\n",
    "  else:\n",
    "    plt.legend(['Truth','Lasso','OLS post-Lasso','DebiNet', 'debiased Lasso'])\n",
    "  plt.ylim(-3,3)\n",
    "  if save:\n",
    "    plt.savefig(save,format='pdf')\n",
    "  plt.show()\n",
    "  return None\n",
    "\n",
    "def est_error(beta_truth, beta_ols,beta_lasso, beta_lassols, beta_plm, beta_dblasso):\n",
    "  Nrun=len(beta_truth)\n",
    "  if len(beta_ols)!=0:\n",
    "    ols_record=0\n",
    "    for i in range(Nrun):\n",
    "      ols_record+=MSE(beta_truth[i],beta_ols[i])/Nrun\n",
    "  \n",
    "  lasso_record,lassols_record,plm_record,dblasso_record=0,0,0,0\n",
    "  for i in range(Nrun):\n",
    "    lasso_record+=MSE(beta_truth[i],beta_lasso[i])/Nrun\n",
    "    lassols_record+=MSE(beta_truth[i],beta_lassols[i])/Nrun\n",
    "    plm_record+=MSE(beta_truth[i],beta_plm[i])/Nrun\n",
    "    dblasso_record+=MSE(beta_truth[i],beta_dblasso[i])/Nrun\n",
    "  \n",
    "  if len(beta_ols)!=0:\n",
    "    return ols_record,lasso_record,lassols_record,plm_record,dblasso_record\n",
    "  return lasso_record,lassols_record,plm_record,dblasso_record\n",
    "\n",
    "def conf_plot(conf, run = 0,save=None):\n",
    "  conf_nonzero = []\n",
    "  conf_zero = []\n",
    "  beta_nonzero=[]\n",
    "  beta_zero=[]\n",
    "  beta_truth=conf[0][run]\n",
    "\n",
    "\n",
    "  if conf[1]!=[]:\n",
    "    name = ['OLS','OLS post-Lasso', 'DebiNet', 'debiased Lasso']\n",
    "  else:\n",
    "    name = ['OLS post-Lasso', 'DebiNet', 'debiased Lasso']\n",
    "\n",
    "  for i in range(1,len(conf)):\n",
    "    if conf[i] !=[]:\n",
    "      confi=conf[i][run]\n",
    "      # print(confi[beta_truth!=0]);print(confi[beta_truth==0])\n",
    "      conf_nonzero.append(np.mean(confi[beta_truth!=0][:,1]-confi[beta_truth!=0][:,0])/2)\n",
    "      conf_zero.append(np.mean(confi[beta_truth==0][:,1]-confi[beta_truth==0][:,0])/2)\n",
    "      beta_nonzero.append(np.mean(confi[beta_truth!=0]))\n",
    "      beta_zero.append(np.mean(confi[beta_truth==0]))\n",
    "      \n",
    "\n",
    "  plt.errorbar(np.arange(len(beta_nonzero)), beta_nonzero, yerr=np.asarray(conf_nonzero).T,ls='none',uplims=True,lolims=True,marker='.')\n",
    "  plt.errorbar(np.arange(len(beta_zero))+0.2, beta_zero, yerr=np.asarray(conf_zero).T,ls='none',uplims=True,lolims=True,marker='.')\n",
    "  plt.axhline(y=0,linestyle='dashed',color='C1')\n",
    "  plt.axhline(y=1,linestyle='dashed',color='C0')\n",
    "  plt.xticks([r+0.1 for r in range(len(name))], name)\n",
    "  if save:\n",
    "    plt.savefig(save,format='pdf')\n",
    "  plt.show()\n",
    "  return None\n",
    "\n",
    "def cov_rate(conf):\n",
    "  beta_truth = conf[0]\n",
    "  Nrun=len(beta_truth)\n",
    "  cov_rate,cov_len = [],[]\n",
    "  for i in range(1, len(conf)):\n",
    "    conff = conf[i]\n",
    "    if conff !=[]:\n",
    "      count = 0\n",
    "      length = 0\n",
    "      for j in range(Nrun):         \n",
    "        conff_min, conff_max = conff[j][:,0], conff[j][:,1]\n",
    "        # print(beta_truth[j], conff_min)\n",
    "        mask = (beta_truth[j]>conff_min) * (beta_truth[j]<conff_max)\n",
    "        count += np.mean(mask)\n",
    "        length += np.mean(conff_max-conff_min)\n",
    "      cov_rate.append(count/Nrun)  \n",
    "      cov_len.append(length/Nrun)\n",
    "  return cov_rate,cov_len"
   ]
  },
  {
   "cell_type": "markdown",
   "metadata": {
    "id": "SWyLRZXsVoUb",
    "colab_type": "text"
   },
   "source": [
    "# High dimension High Sparsity\n",
    "\n"
   ]
  },
  {
   "cell_type": "code",
   "execution_count": 12,
   "metadata": {
    "id": "SaUVnevLdXmu",
    "colab_type": "code",
    "outputId": "d3c0cfa7-c406-4dfb-d9c7-3338519e88c5",
    "colab": {
     "base_uri": "https://localhost:8080/",
     "height": 367.0
    }
   },
   "outputs": [
    {
     "name": "stdout",
     "output_type": "stream",
     "text": [
      "Run  0 , Lasso selects  10  features.\n",
      "Run  1 , Lasso selects  20  features.\n",
      "Run  2 , Lasso selects  19  features.\n",
      "Run  3 , Lasso selects  14  features.\n",
      "Run  4 , Lasso selects  15  features.\n",
      "Run  5 , Lasso selects  14  features.\n",
      "Run  6 , Lasso selects  20  features.\n",
      "Run  7 , Lasso selects  15  features.\n",
      "Run  8 , Lasso selects  18  features.\n",
      "Run  9 , Lasso selects  21  features.\n",
      "Run  10 , Lasso selects  15  features.\n",
      "Run  11 , Lasso selects  16  features.\n",
      "Run  12 , Lasso selects  23  features.\n",
      "Run  13 , Lasso selects  25  features.\n",
      "Run  14 , Lasso selects  18  features.\n",
      "Run  15 , Lasso selects  13  features.\n",
      "Run  16 , Lasso selects  13  features.\n",
      "Run  17 , Lasso selects  13  features.\n",
      "Run  18 , Lasso selects  13  features.\n",
      "Run  19 , Lasso selects  14  features.\n",
      "3345.1120796203613\n"
     ]
    }
   ],
   "source": [
    "start=time.time() # 60min\n",
    "outputs0=simulations(Nrun=20,split_size=0.2,sigma=1,n=1000,p=3000,p1=300,lam=2,alpha=0.05,verbose=0,lamj=2)\n",
    "print(time.time()-start)"
   ]
  },
  {
   "cell_type": "code",
   "execution_count": 13,
   "metadata": {
    "id": "gktsGu5x0rZ7",
    "colab_type": "code",
    "outputId": "c7a2da9f-ad39-420d-aa43-b8ca4beb6960",
    "colab": {
     "base_uri": "https://localhost:8080/",
     "height": 1000.0
    }
   },
   "outputs": [
    {
     "data": {
      "image/png": "[encoded data removed]",
      "text/plain": [
       "<Figure size 432x288 with 1 Axes>"
      ]
     },
     "metadata": {
      "tags": [],
      "needs_background": "light"
     },
     "output_type": "display_data"
    },
    {
     "name": "stdout",
     "output_type": "stream",
     "text": [
      "\n",
      "\n",
      "Lasso estimation error:  0.5408341721701279\n",
      "LassoOLS estimation error:  1.3753528884494166\n",
      "dbLasso estimation error:  2.0641810726102268\n",
      "LassoPLM estimation error:  0.448782429804188\n",
      "\n",
      "\n"
     ]
    },
    {
     "data": {
      "image/png": "[encoded data removed]",
      "text/plain": [
       "<Figure size 432x288 with 1 Axes>"
      ]
     },
     "metadata": {
      "tags": [],
      "needs_background": "light"
     },
     "output_type": "display_data"
    },
    {
     "name": "stdout",
     "output_type": "stream",
     "text": [
      "\n",
      "\n",
      "LassoOLS coverage:  0.5776963653559763  with width  2.142277756532218\n",
      "LassoPLM coverage:  0.8194540448110244  with width  1.6836420674852914\n",
      "dbLasso coverage:  0.0  with width  0.13792024164127248\n",
      "\n",
      "\n",
      "Lasso prediction error:  285.94807404824274\n",
      "LassoOLS prediction error:  230.72864244308496\n",
      "LassoPLM prediction error:  145.3177721060986\n",
      "dbLasso prediction error:  5027.757313918683\n",
      "\n",
      "\n",
      "Lasso generalization error:  296.5134672500838\n",
      "LassoOLS generalization error:  308.34445082072244\n",
      "LassoPLM generalization error:  280.39722568045\n",
      "dbLasso generalization error:  1067.417405694887\n",
      "\n",
      "\n",
      "LassoPLM time:  61.0169615149498\n",
      "dbLasso time:  106.0146800160408\n"
     ]
    }
   ],
   "source": [
    "est_plot(outputs0[0][0][0],[],outputs0[0][2][0],outputs0[0][3][0],outputs0[0][4][0],outputs0[0][5][0],save='high1.pdf')\n",
    "print('\\n')\n",
    "\n",
    "### estimation error\n",
    "lasso_record,lassols_record,plm_record,dblasso_record=est_error(outputs0[0][0],[],outputs0[0][2],outputs0[0][3],outputs0[0][4],outputs0[0][5])\n",
    "print('Lasso estimation error: ',lasso_record)\n",
    "print('LassoOLS estimation error: ',lassols_record)\n",
    "print('dbLasso estimation error: ',dblasso_record)\n",
    "print('LassoPLM estimation error: ',plm_record)\n",
    "print('\\n')\n",
    "\n",
    "conf_plot(outputs0[2],save='highconfidence1.pdf')\n",
    "print('\\n')\n",
    "\n",
    "### coverage\n",
    "print('LassoOLS coverage: ',cov_rate(outputs0[2])[0][0],' with width ',cov_rate(outputs0[2])[1][0])\n",
    "print('LassoPLM coverage: ',cov_rate(outputs0[2])[0][1],' with width ',cov_rate(outputs0[2])[1][1])\n",
    "print('dbLasso coverage: ',cov_rate(outputs0[2])[0][2],' with width ',cov_rate(outputs0[2])[1][2])\n",
    "print('\\n')\n",
    "\n",
    "### prediction error\n",
    "lasso_record,lassols_record,plm_record,dblasso_record=est_error(outputs0[1][0],[],outputs0[1][2],outputs0[1][3],outputs0[1][4],outputs0[1][5])\n",
    "print('Lasso prediction error: ',lasso_record)\n",
    "print('LassoOLS prediction error: ',lassols_record)\n",
    "print('LassoPLM prediction error: ',plm_record)\n",
    "print('dbLasso prediction error: ',dblasso_record)\n",
    "print('\\n')\n",
    "\n",
    "### generalization error\n",
    "lasso_record,lassols_record,plm_record,dblasso_record=est_error(outputs0[4][0],[],outputs0[4][2],outputs0[4][3],outputs0[4][4],outputs0[4][5])\n",
    "print('Lasso generalization error: ',lasso_record)\n",
    "print('LassoOLS generalization error: ',lassols_record)\n",
    "print('LassoPLM generalization error: ',plm_record)\n",
    "print('dbLasso generalization error: ',dblasso_record)\n",
    "print('\\n')\n",
    "\n",
    "### time\n",
    "print('LassoPLM time: ',np.mean(outputs0[3][0]))\n",
    "print('dbLasso time: ',np.mean(outputs0[3][1]))"
   ]
  },
  {
   "cell_type": "markdown",
   "metadata": {
    "id": "HBx4AmyrZVro",
    "colab_type": "text"
   },
   "source": [
    "# High dimension Low Sparsity"
   ]
  },
  {
   "cell_type": "code",
   "execution_count": 14,
   "metadata": {
    "id": "oUsldin0ZYTc",
    "colab_type": "code",
    "colab": {
     "base_uri": "https://localhost:8080/",
     "height": 367.0
    },
    "outputId": "c4073cbd-b869-428e-eab7-fcda0ff88e43"
   },
   "outputs": [
    {
     "name": "stdout",
     "output_type": "stream",
     "text": [
      "Run  0 , Lasso selects  10  features.\n",
      "Run  1 , Lasso selects  10  features.\n",
      "Run  2 , Lasso selects  10  features.\n",
      "Run  3 , Lasso selects  10  features.\n",
      "Run  4 , Lasso selects  10  features.\n",
      "Run  5 , Lasso selects  10  features.\n",
      "Run  6 , Lasso selects  10  features.\n",
      "Run  7 , Lasso selects  10  features.\n",
      "Run  8 , Lasso selects  10  features.\n",
      "Run  9 , Lasso selects  10  features.\n",
      "Run  10 , Lasso selects  10  features.\n",
      "Run  11 , Lasso selects  10  features.\n",
      "Run  12 , Lasso selects  10  features.\n",
      "Run  13 , Lasso selects  10  features.\n",
      "Run  14 , Lasso selects  10  features.\n",
      "Run  15 , Lasso selects  10  features.\n",
      "Run  16 , Lasso selects  10  features.\n",
      "Run  17 , Lasso selects  10  features.\n",
      "Run  18 , Lasso selects  10  features.\n",
      "Run  19 , Lasso selects  10  features.\n",
      "2588.367693424225\n"
     ]
    }
   ],
   "source": [
    "start=time.time() # 60min\n",
    "outputs1=simulations(Nrun=20,split_size=0.2,sigma=1,n=1000,p=3000,p1=10,lam=0.5,alpha=0.05,verbose=0,lamj=0.5)\n",
    "print(time.time()-start)"
   ]
  },
  {
   "cell_type": "code",
   "execution_count": 15,
   "metadata": {
    "id": "Mno-cppiarSi",
    "colab_type": "code",
    "colab": {
     "base_uri": "https://localhost:8080/",
     "height": 1000.0
    },
    "outputId": "41d2e8b3-2460-4cd4-d004-3918f33ff449"
   },
   "outputs": [
    {
     "data": {
      "image/png": "[encoded data removed]",
      "text/plain": [
       "<Figure size 432x288 with 1 Axes>"
      ]
     },
     "metadata": {
      "tags": [],
      "needs_background": "light"
     },
     "output_type": "display_data"
    },
    {
     "name": "stdout",
     "output_type": "stream",
     "text": [
      "\n",
      "\n",
      "Lasso estimation error:  0.263249236733146\n",
      "LassoOLS estimation error:  0.0011307038378469338\n",
      "dbLasso estimation error:  0.004312279149039556\n",
      "LassoPLM estimation error:  0.0011515593474397477\n",
      "\n",
      "\n"
     ]
    },
    {
     "name": "stderr",
     "output_type": "stream",
     "text": [
      "/usr/local/lib/python3.6/dist-packages/numpy/core/fromnumeric.py:3335: RuntimeWarning: Mean of empty slice.\n",
      "  out=out, **kwargs)\n",
      "/usr/local/lib/python3.6/dist-packages/numpy/core/_methods.py:161: RuntimeWarning: invalid value encountered in double_scalars\n",
      "  ret = ret.dtype.type(ret / rcount)\n"
     ]
    },
    {
     "data": {
      "image/png": "[encoded data removed]",
      "text/plain": [
       "<Figure size 432x288 with 1 Axes>"
      ]
     },
     "metadata": {
      "tags": [],
      "needs_background": "light"
     },
     "output_type": "display_data"
    },
    {
     "name": "stdout",
     "output_type": "stream",
     "text": [
      "\n",
      "\n",
      "LassoOLS coverage:  0.9649999999999999  with width  0.14118975498258415\n",
      "LassoPLM coverage:  0.9649999999999999  with width  0.14158360143488657\n",
      "dbLasso coverage:  0.7049999999999998  with width  0.13857821900997566\n",
      "\n",
      "\n",
      "Lasso prediction error:  3.543661311614381\n",
      "LassoOLS prediction error:  1.0111745820694913\n",
      "LassoPLM prediction error:  1.0061547654713148\n",
      "dbLasso prediction error:  54.99229542845435\n",
      "\n",
      "\n",
      "Lasso generalization error:  3.610578958135436\n",
      "LassoOLS generalization error:  0.9956287406755958\n",
      "LassoPLM generalization error:  0.9992817123226314\n",
      "dbLasso generalization error:  14.002223249208551\n",
      "\n",
      "\n",
      "LassoPLM time:  21.405095267295838\n",
      "dbLasso time:  107.78525904417037\n"
     ]
    }
   ],
   "source": [
    "est_plot(outputs1[0][0][0],[],outputs1[0][2][0],outputs1[0][3][0],outputs1[0][4][0],outputs1[0][5][0],save='high2.pdf')\n",
    "print('\\n')\n",
    "\n",
    "### estimation error\n",
    "lasso_record,lassols_record,plm_record,dblasso_record=est_error(outputs1[0][0],[],outputs1[0][2],outputs1[0][3],outputs1[0][4],outputs1[0][5])\n",
    "print('Lasso estimation error: ',lasso_record)\n",
    "print('LassoOLS estimation error: ',lassols_record)\n",
    "print('dbLasso estimation error: ',dblasso_record)\n",
    "print('LassoPLM estimation error: ',plm_record)\n",
    "print('\\n')\n",
    "\n",
    "conf_plot(outputs1[2],save='highconfidence2.pdf')\n",
    "print('\\n')\n",
    "\n",
    "### coverage\n",
    "print('LassoOLS coverage: ',cov_rate(outputs1[2])[0][0],' with width ',cov_rate(outputs1[2])[1][0])\n",
    "print('LassoPLM coverage: ',cov_rate(outputs1[2])[0][1],' with width ',cov_rate(outputs1[2])[1][1])\n",
    "print('dbLasso coverage: ',cov_rate(outputs1[2])[0][2],' with width ',cov_rate(outputs1[2])[1][2])\n",
    "print('\\n')\n",
    "\n",
    "### prediction error\n",
    "lasso_record,lassols_record,plm_record,dblasso_record=est_error(outputs1[1][0],[],outputs1[1][2],outputs1[1][3],outputs1[1][4],outputs1[1][5])\n",
    "print('Lasso prediction error: ',lasso_record)\n",
    "print('LassoOLS prediction error: ',lassols_record)\n",
    "print('LassoPLM prediction error: ',plm_record)\n",
    "print('dbLasso prediction error: ',dblasso_record)\n",
    "print('\\n')\n",
    "\n",
    "### generalization error\n",
    "lasso_record,lassols_record,plm_record,dblasso_record=est_error(outputs1[4][0],[],outputs1[4][2],outputs1[4][3],outputs1[4][4],outputs1[4][5])\n",
    "print('Lasso generalization error: ',lasso_record)\n",
    "print('LassoOLS generalization error: ',lassols_record)\n",
    "print('LassoPLM generalization error: ',plm_record)\n",
    "print('dbLasso generalization error: ',dblasso_record)\n",
    "print('\\n')\n",
    "\n",
    "### time\n",
    "print('LassoPLM time: ',np.mean(outputs1[3][0]))\n",
    "print('dbLasso time: ',np.mean(outputs1[3][1]))"
   ]
  },
  {
   "cell_type": "markdown",
   "metadata": {
    "colab_type": "text",
    "id": "bleeGbDGQsdz"
   },
   "source": [
    "# Low dimension High Sparsity"
   ]
  },
  {
   "cell_type": "code",
   "execution_count": 20,
   "metadata": {
    "id": "NGqZw7P1xjSg",
    "colab_type": "code",
    "outputId": "2e88af3c-0729-4111-8cd7-4eb115f637fd",
    "colab": {
     "base_uri": "https://localhost:8080/",
     "height": 367.0
    }
   },
   "outputs": [
    {
     "name": "stdout",
     "output_type": "stream",
     "text": [
      "Run  0 , Lasso selects  143  features.\n",
      "Run  1 , Lasso selects  150  features.\n",
      "Run  2 , Lasso selects  150  features.\n",
      "Run  3 , Lasso selects  155  features.\n",
      "Run  4 , Lasso selects  142  features.\n",
      "Run  5 , Lasso selects  147  features.\n",
      "Run  6 , Lasso selects  157  features.\n",
      "Run  7 , Lasso selects  159  features.\n",
      "Run  8 , Lasso selects  156  features.\n",
      "Run  9 , Lasso selects  151  features.\n",
      "Run  10 , Lasso selects  141  features.\n",
      "Run  11 , Lasso selects  152  features.\n",
      "Run  12 , Lasso selects  147  features.\n",
      "Run  13 , Lasso selects  152  features.\n",
      "Run  14 , Lasso selects  150  features.\n",
      "Run  15 , Lasso selects  134  features.\n",
      "Run  16 , Lasso selects  154  features.\n",
      "Run  17 , Lasso selects  152  features.\n",
      "Run  18 , Lasso selects  147  features.\n",
      "Run  19 , Lasso selects  148  features.\n",
      "218.01565670967102\n"
     ]
    }
   ],
   "source": [
    "start=time.time() #4min\n",
    "outputs2=simulations(Nrun=20,split_size=0.2,sigma=1,n=1000,p=500,p1=400,lam=1,alpha=0.05,verbose=0,lamj=1)\n",
    "print(time.time()-start)"
   ]
  },
  {
   "cell_type": "code",
   "execution_count": 25,
   "metadata": {
    "id": "LMTctRt0cisd",
    "colab_type": "code",
    "colab": {
     "base_uri": "https://localhost:8080/",
     "height": 1000.0
    },
    "outputId": "a3ecbbad-0633-4b84-db20-cba767433a76"
   },
   "outputs": [
    {
     "data": {
      "image/png": "[encoded data removed]",
      "text/plain": [
       "<Figure size 432x288 with 1 Axes>"
      ]
     },
     "metadata": {
      "tags": [],
      "needs_background": "light"
     },
     "output_type": "display_data"
    },
    {
     "name": "stdout",
     "output_type": "stream",
     "text": [
      "\n",
      "\n",
      "OLS estimation error:  0.0032994593474855493\n",
      "Lasso estimation error:  0.42714267692236035\n",
      "LassoOLS estimation error:  0.22657984351217844\n",
      "dbLasso estimation error:  0.34454028866967734\n",
      "LassoPLM estimation error:  0.2261037387072071\n",
      "\n",
      "\n"
     ]
    },
    {
     "data": {
      "image/png": "[encoded data removed]",
      "text/plain": [
       "<Figure size 432x288 with 1 Axes>"
      ]
     },
     "metadata": {
      "tags": [],
      "needs_background": "light"
     },
     "output_type": "display_data"
    },
    {
     "name": "stdout",
     "output_type": "stream",
     "text": [
      "\n",
      "\n",
      "OLS coverage:  0.9554733427499009  with width  0.22876167699397204\n",
      "LassoOLS coverage:  0.9330408392286567  with width  1.742580023598516\n",
      "LassoPLM coverage:  0.9334283106455373  with width  1.7430512576770432\n",
      "dbLasso coverage:  0.10397843665078747  with width  0.1384165480383637\n",
      "\n",
      "\n",
      "OLS prediction error:  0.3822605589066343\n",
      "Lasso prediction error:  212.9929526028596\n",
      "LassoOLS prediction error:  104.79079237337858\n",
      "LassoPLM prediction error:  104.83737632751489\n",
      "dbLasso prediction error:  136.93989120571126\n",
      "\n",
      "\n",
      "OLS prediction error:  2.626240066007529\n",
      "Lasso generalization error:  328.22334624361974\n",
      "LassoOLS generalization error:  300.0720455885826\n",
      "LassoPLM generalization error:  300.14047800981535\n",
      "dbLasso generalization error:  159.1202396198275\n",
      "\n",
      "\n",
      "LassoPLM time:  7.72103773355484\n",
      "dbLasso time:  2.6748558402061464\n"
     ]
    }
   ],
   "source": [
    "est_plot(outputs2[0][0][0],outputs2[0][1][0],outputs2[0][2][0],outputs2[0][3][0],outputs2[0][4][0],outputs2[0][5][0],save='low1.pdf')\n",
    "print('\\n')\n",
    "\n",
    "### estimation error\n",
    "ols_record,lasso_record,lassols_record,plm_record,dblasso_record=est_error(outputs2[0][0],outputs2[0][1],outputs2[0][2],outputs2[0][3],outputs2[0][4],outputs2[0][5])\n",
    "print('OLS estimation error: ',ols_record)\n",
    "print('Lasso estimation error: ',lasso_record)\n",
    "print('LassoOLS estimation error: ',lassols_record)\n",
    "print('dbLasso estimation error: ',dblasso_record)\n",
    "print('LassoPLM estimation error: ',plm_record)\n",
    "print('\\n')\n",
    "\n",
    "conf_plot(outputs2[2],save='lowconfidence1.pdf')\n",
    "print('\\n')\n",
    "\n",
    "### coverage\n",
    "print('OLS coverage: ',cov_rate(outputs2[2])[0][0],' with width ',cov_rate(outputs2[2])[1][0])\n",
    "print('LassoOLS coverage: ',cov_rate(outputs2[2])[0][1],' with width ',cov_rate(outputs2[2])[1][1])\n",
    "print('LassoPLM coverage: ',cov_rate(outputs2[2])[0][2],' with width ',cov_rate(outputs2[2])[1][2])\n",
    "print('dbLasso coverage: ',cov_rate(outputs2[2])[0][3],' with width ',cov_rate(outputs2[2])[1][3])\n",
    "print('\\n')\n",
    "\n",
    "### prediction error\n",
    "ols_record,lasso_record,lassols_record,plm_record,dblasso_record=est_error(outputs2[1][0],outputs2[1][1],outputs2[1][2],outputs2[1][3],outputs2[1][4],outputs2[1][5])\n",
    "print('OLS prediction error: ',ols_record)\n",
    "print('Lasso prediction error: ',lasso_record)\n",
    "print('LassoOLS prediction error: ',lassols_record)\n",
    "print('LassoPLM prediction error: ',plm_record)\n",
    "print('dbLasso prediction error: ',dblasso_record)\n",
    "print('\\n')\n",
    "\n",
    "### generalization error\n",
    "ols_record,lasso_record,lassols_record,plm_record,dblasso_record=est_error(outputs2[4][0],outputs2[4][1],outputs2[4][2],outputs2[4][3],outputs2[4][4],outputs2[4][5])\n",
    "print('OLS prediction error: ',ols_record)\n",
    "print('Lasso generalization error: ',lasso_record)\n",
    "print('LassoOLS generalization error: ',lassols_record)\n",
    "print('LassoPLM generalization error: ',plm_record)\n",
    "print('dbLasso generalization error: ',dblasso_record)\n",
    "print('\\n')\n",
    "\n",
    "### time\n",
    "print('LassoPLM time: ',np.mean(outputs2[3][0]))\n",
    "print('dbLasso time: ',np.mean(outputs2[3][1]))"
   ]
  },
  {
   "cell_type": "markdown",
   "metadata": {
    "id": "RM93U-lOQmPm",
    "colab_type": "text"
   },
   "source": [
    "# Low dimension Low Sparsity"
   ]
  },
  {
   "cell_type": "code",
   "execution_count": 22,
   "metadata": {
    "id": "84HllaWYuc4x",
    "colab_type": "code",
    "outputId": "0a6f6d0f-2612-478c-9758-860f1a48942b",
    "colab": {
     "base_uri": "https://localhost:8080/",
     "height": 367.0
    }
   },
   "outputs": [
    {
     "name": "stdout",
     "output_type": "stream",
     "text": [
      "Run  0 , Lasso selects  38  features.\n",
      "Run  1 , Lasso selects  57  features.\n",
      "Run  2 , Lasso selects  43  features.\n",
      "Run  3 , Lasso selects  53  features.\n",
      "Run  4 , Lasso selects  35  features.\n",
      "Run  5 , Lasso selects  41  features.\n",
      "Run  6 , Lasso selects  31  features.\n",
      "Run  7 , Lasso selects  46  features.\n",
      "Run  8 , Lasso selects  42  features.\n",
      "Run  9 , Lasso selects  39  features.\n",
      "Run  10 , Lasso selects  49  features.\n",
      "Run  11 , Lasso selects  51  features.\n",
      "Run  12 , Lasso selects  45  features.\n",
      "Run  13 , Lasso selects  40  features.\n",
      "Run  14 , Lasso selects  37  features.\n",
      "Run  15 , Lasso selects  28  features.\n",
      "Run  16 , Lasso selects  45  features.\n",
      "Run  17 , Lasso selects  40  features.\n",
      "Run  18 , Lasso selects  38  features.\n",
      "Run  19 , Lasso selects  45  features.\n",
      "205.23180747032166\n"
     ]
    }
   ],
   "source": [
    "start=time.time() # 3min\n",
    "outputs3=simulations(Nrun=20,split_size=0.2,sigma=1,n=1000,p=500,p1=100,lam=1,alpha=0.05,verbose=0,lamj=1)\n",
    "print(time.time()-start)"
   ]
  },
  {
   "cell_type": "code",
   "execution_count": 27,
   "metadata": {
    "id": "0qfZSL1Zerdh",
    "colab_type": "code",
    "colab": {
     "base_uri": "https://localhost:8080/",
     "height": 1000.0
    },
    "outputId": "c7ab75fa-e6bf-4a68-c05d-d117a846e173"
   },
   "outputs": [
    {
     "data": {
      "image/png": "[encoded data removed]",
      "text/plain": [
       "<Figure size 432x288 with 1 Axes>"
      ]
     },
     "metadata": {
      "tags": [],
      "needs_background": "light"
     },
     "output_type": "display_data"
    },
    {
     "name": "stdout",
     "output_type": "stream",
     "text": [
      "\n",
      "\n",
      "OLS estimation error:  0.0032400061440429626\n",
      "Lasso estimation error:  0.60143829353969\n",
      "LassoOLS estimation error:  0.048029556184959625\n",
      "dbLasso estimation error:  0.10616212098209074\n",
      "LassoPLM estimation error:  0.04789918782723503\n",
      "\n",
      "\n"
     ]
    },
    {
     "name": "stderr",
     "output_type": "stream",
     "text": [
      "/usr/local/lib/python3.6/dist-packages/numpy/core/fromnumeric.py:3335: RuntimeWarning: Mean of empty slice.\n",
      "  out=out, **kwargs)\n",
      "/usr/local/lib/python3.6/dist-packages/numpy/core/_methods.py:161: RuntimeWarning: invalid value encountered in double_scalars\n",
      "  ret = ret.dtype.type(ret / rcount)\n"
     ]
    },
    {
     "data": {
      "image/png": "[encoded data removed]",
      "text/plain": [
       "<Figure size 432x288 with 1 Axes>"
      ]
     },
     "metadata": {
      "tags": [],
      "needs_background": "light"
     },
     "output_type": "display_data"
    },
    {
     "name": "stdout",
     "output_type": "stream",
     "text": [
      "\n",
      "\n",
      "OLS coverage:  0.9621939440757235  with width  0.22860415010971571\n",
      "LassoOLS coverage:  0.9585662112800767  with width  0.9330543008102291\n",
      "LassoPLM coverage:  0.9585662112800767  with width  0.9332511942166797\n",
      "dbLasso coverage:  0.17515149527579926  with width  0.13817656301115455\n",
      "\n",
      "\n",
      "OLS prediction error:  0.38226055890663413\n",
      "Lasso prediction error:  74.77497909362795\n",
      "LassoOLS prediction error:  41.002943590545094\n",
      "LassoPLM prediction error:  41.00256769291872\n",
      "dbLasso prediction error:  66.39170454657842\n",
      "\n",
      "\n",
      "OLS prediction error:  2.6262400660075307\n",
      "Lasso generalization error:  87.97388066366213\n",
      "LassoOLS generalization error:  62.8548091542857\n",
      "LassoPLM generalization error:  62.885493932801225\n",
      "dbLasso generalization error:  49.340748618955935\n",
      "\n",
      "\n",
      "LassoPLM time:  7.049517405033112\n",
      "dbLasso time:  2.7336561560630797\n"
     ]
    }
   ],
   "source": [
    "est_plot(outputs3[0][0][0],outputs3[0][1][0],outputs3[0][2][0],outputs3[0][3][0],outputs3[0][4][0],outputs3[0][5][0],save='low2.pdf')\n",
    "print('\\n')\n",
    "\n",
    "### estimation error\n",
    "ols_record,lasso_record,lassols_record,plm_record,dblasso_record=est_error(outputs3[0][0],outputs3[0][1],outputs3[0][2],outputs3[0][3],outputs3[0][4],outputs3[0][5])\n",
    "print('OLS estimation error: ',ols_record)\n",
    "print('Lasso estimation error: ',lasso_record)\n",
    "print('LassoOLS estimation error: ',lassols_record)\n",
    "print('dbLasso estimation error: ',dblasso_record)\n",
    "print('LassoPLM estimation error: ',plm_record)\n",
    "print('\\n')\n",
    "\n",
    "conf_plot(outputs3[2],save='lowconfidence2.pdf')\n",
    "print('\\n')\n",
    "\n",
    "### coverage\n",
    "print('OLS coverage: ',cov_rate(outputs3[2])[0][0],' with width ',cov_rate(outputs3[2])[1][0])\n",
    "print('LassoOLS coverage: ',cov_rate(outputs3[2])[0][1],' with width ',cov_rate(outputs3[2])[1][1])\n",
    "print('LassoPLM coverage: ',cov_rate(outputs3[2])[0][2],' with width ',cov_rate(outputs3[2])[1][2])\n",
    "print('dbLasso coverage: ',cov_rate(outputs3[2])[0][3],' with width ',cov_rate(outputs3[2])[1][3])\n",
    "print('\\n')\n",
    "\n",
    "### prediction error\n",
    "ols_record,lasso_record,lassols_record,plm_record,dblasso_record=est_error(outputs3[1][0],outputs3[1][1],outputs3[1][2],outputs3[1][3],outputs3[1][4],outputs3[1][5])\n",
    "print('OLS prediction error: ',ols_record)\n",
    "print('Lasso prediction error: ',lasso_record)\n",
    "print('LassoOLS prediction error: ',lassols_record)\n",
    "print('LassoPLM prediction error: ',plm_record)\n",
    "print('dbLasso prediction error: ',dblasso_record)\n",
    "print('\\n')\n",
    "\n",
    "### generalization error\n",
    "ols_record,lasso_record,lassols_record,plm_record,dblasso_record=est_error(outputs3[4][0],outputs3[4][1],outputs3[4][2],outputs3[4][3],outputs3[4][4],outputs3[4][5])\n",
    "print('OLS prediction error: ',ols_record)\n",
    "print('Lasso generalization error: ',lasso_record)\n",
    "print('LassoOLS generalization error: ',lassols_record)\n",
    "print('LassoPLM generalization error: ',plm_record)\n",
    "print('dbLasso generalization error: ',dblasso_record)\n",
    "print('\\n')\n",
    "\n",
    "### time\n",
    "print('LassoPLM time: ',np.mean(outputs3[3][0]))\n",
    "print('dbLasso time: ',np.mean(outputs3[3][1]))"
   ]
  },
  {
   "cell_type": "markdown",
   "metadata": {
    "id": "ktBwgu2jiqpc",
    "colab_type": "text"
   },
   "source": [
    "# Save outputs"
   ]
  },
  {
   "cell_type": "code",
   "execution_count": 0,
   "metadata": {
    "id": "Sa-80oe3wbQ8",
    "colab_type": "code",
    "colab": {}
   },
   "outputs": [],
   "source": [
    "import pickle\n",
    "pickle_out = open(\"outputs.pickle\",\"wb\")\n",
    "pickle.dump(outputs0, pickle_out)\n",
    "pickle.dump(outputs1, pickle_out)\n",
    "pickle.dump(outputs2, pickle_out)\n",
    "pickle.dump(outputs3, pickle_out)\n",
    "pickle_out.close()"
   ]
  },
  {
   "cell_type": "code",
   "execution_count": 0,
   "metadata": {
    "id": "RCR8nd7a6asD",
    "colab_type": "code",
    "colab": {}
   },
   "outputs": [],
   "source": [
    ""
   ]
  }
 ],
 "metadata": {
  "kernelspec": {
   "display_name": "Python 3",
   "language": "python",
   "name": "python3"
  },
  "language_info": {
   "codemirror_mode": {
    "name": "ipython",
    "version": 3
   },
   "file_extension": ".py",
   "mimetype": "text/x-python",
   "name": "python",
   "nbconvert_exporter": "python",
   "pygments_lexer": "ipython3",
   "version": "3.7.4"
  },
  "colab": {
   "name": "DPLM_Figure2.ipynb",
   "provenance": [],
   "collapsed_sections": [],
   "toc_visible": true
  },
  "accelerator": "GPU"
 },
 "nbformat": 4,
 "nbformat_minor": 0
}
